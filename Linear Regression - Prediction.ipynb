{
 "cells": [
  {
   "cell_type": "code",
   "execution_count": 164,
   "metadata": {},
   "outputs": [],
   "source": [
    "import pandas as pd\n",
    "import numpy as np\n",
    "import matplotlib.pyplot as plt\n",
    "import seaborn as sns\n",
    "%matplotlib inline"
   ]
  },
  {
   "cell_type": "code",
   "execution_count": 165,
   "metadata": {},
   "outputs": [
    {
     "data": {
      "text/html": [
       "<div>\n",
       "<style scoped>\n",
       "    .dataframe tbody tr th:only-of-type {\n",
       "        vertical-align: middle;\n",
       "    }\n",
       "\n",
       "    .dataframe tbody tr th {\n",
       "        vertical-align: top;\n",
       "    }\n",
       "\n",
       "    .dataframe thead th {\n",
       "        text-align: right;\n",
       "    }\n",
       "</style>\n",
       "<table border=\"1\" class=\"dataframe\">\n",
       "  <thead>\n",
       "    <tr style=\"text-align: right;\">\n",
       "      <th></th>\n",
       "      <th>SNo</th>\n",
       "      <th>ObservationDate</th>\n",
       "      <th>Province/State</th>\n",
       "      <th>Country/Region</th>\n",
       "      <th>Last Update</th>\n",
       "      <th>Confirmed</th>\n",
       "      <th>Deaths</th>\n",
       "      <th>Recovered</th>\n",
       "    </tr>\n",
       "  </thead>\n",
       "  <tbody>\n",
       "    <tr>\n",
       "      <th>156287</th>\n",
       "      <td>156288</td>\n",
       "      <td>11/15/2020</td>\n",
       "      <td>Zaporizhia Oblast</td>\n",
       "      <td>Ukraine</td>\n",
       "      <td>2020-11-16 05:25:57</td>\n",
       "      <td>18484.0</td>\n",
       "      <td>164.0</td>\n",
       "      <td>3021.0</td>\n",
       "    </tr>\n",
       "    <tr>\n",
       "      <th>156288</th>\n",
       "      <td>156289</td>\n",
       "      <td>11/15/2020</td>\n",
       "      <td>Zeeland</td>\n",
       "      <td>Netherlands</td>\n",
       "      <td>2020-11-16 05:25:57</td>\n",
       "      <td>5041.0</td>\n",
       "      <td>86.0</td>\n",
       "      <td>0.0</td>\n",
       "    </tr>\n",
       "    <tr>\n",
       "      <th>156289</th>\n",
       "      <td>156290</td>\n",
       "      <td>11/15/2020</td>\n",
       "      <td>Zhejiang</td>\n",
       "      <td>Mainland China</td>\n",
       "      <td>2020-11-16 05:25:57</td>\n",
       "      <td>1291.0</td>\n",
       "      <td>1.0</td>\n",
       "      <td>1279.0</td>\n",
       "    </tr>\n",
       "    <tr>\n",
       "      <th>156290</th>\n",
       "      <td>156291</td>\n",
       "      <td>11/15/2020</td>\n",
       "      <td>Zhytomyr Oblast</td>\n",
       "      <td>Ukraine</td>\n",
       "      <td>2020-11-16 05:25:57</td>\n",
       "      <td>22225.0</td>\n",
       "      <td>368.0</td>\n",
       "      <td>12266.0</td>\n",
       "    </tr>\n",
       "    <tr>\n",
       "      <th>156291</th>\n",
       "      <td>156292</td>\n",
       "      <td>11/15/2020</td>\n",
       "      <td>Zuid-Holland</td>\n",
       "      <td>Netherlands</td>\n",
       "      <td>2020-11-16 05:25:57</td>\n",
       "      <td>129188.0</td>\n",
       "      <td>2031.0</td>\n",
       "      <td>0.0</td>\n",
       "    </tr>\n",
       "  </tbody>\n",
       "</table>\n",
       "</div>"
      ],
      "text/plain": [
       "           SNo ObservationDate     Province/State  Country/Region  \\\n",
       "156287  156288      11/15/2020  Zaporizhia Oblast         Ukraine   \n",
       "156288  156289      11/15/2020            Zeeland     Netherlands   \n",
       "156289  156290      11/15/2020           Zhejiang  Mainland China   \n",
       "156290  156291      11/15/2020    Zhytomyr Oblast         Ukraine   \n",
       "156291  156292      11/15/2020       Zuid-Holland     Netherlands   \n",
       "\n",
       "               Last Update  Confirmed  Deaths  Recovered  \n",
       "156287 2020-11-16 05:25:57    18484.0   164.0     3021.0  \n",
       "156288 2020-11-16 05:25:57     5041.0    86.0        0.0  \n",
       "156289 2020-11-16 05:25:57     1291.0     1.0     1279.0  \n",
       "156290 2020-11-16 05:25:57    22225.0   368.0    12266.0  \n",
       "156291 2020-11-16 05:25:57   129188.0  2031.0        0.0  "
      ]
     },
     "execution_count": 165,
     "metadata": {},
     "output_type": "execute_result"
    }
   ],
   "source": [
    "df = pd.read_csv('covid_19_data.csv',parse_dates=['Last Update'])\n",
    "df.tail()"
   ]
  },
  {
   "cell_type": "code",
   "execution_count": 166,
   "metadata": {},
   "outputs": [
    {
     "data": {
      "text/html": [
       "<div>\n",
       "<style scoped>\n",
       "    .dataframe tbody tr th:only-of-type {\n",
       "        vertical-align: middle;\n",
       "    }\n",
       "\n",
       "    .dataframe tbody tr th {\n",
       "        vertical-align: top;\n",
       "    }\n",
       "\n",
       "    .dataframe thead th {\n",
       "        text-align: right;\n",
       "    }\n",
       "</style>\n",
       "<table border=\"1\" class=\"dataframe\">\n",
       "  <thead>\n",
       "    <tr style=\"text-align: right;\">\n",
       "      <th></th>\n",
       "      <th>SNo</th>\n",
       "      <th>Confirmed</th>\n",
       "      <th>Deaths</th>\n",
       "      <th>Recovered</th>\n",
       "    </tr>\n",
       "  </thead>\n",
       "  <tbody>\n",
       "    <tr>\n",
       "      <th>count</th>\n",
       "      <td>140354.000000</td>\n",
       "      <td>1.403540e+05</td>\n",
       "      <td>140354.000000</td>\n",
       "      <td>1.403540e+05</td>\n",
       "    </tr>\n",
       "    <tr>\n",
       "      <th>mean</th>\n",
       "      <td>80846.500000</td>\n",
       "      <td>2.896933e+04</td>\n",
       "      <td>1008.251635</td>\n",
       "      <td>1.824350e+04</td>\n",
       "    </tr>\n",
       "    <tr>\n",
       "      <th>std</th>\n",
       "      <td>40516.854178</td>\n",
       "      <td>8.627797e+04</td>\n",
       "      <td>3321.954212</td>\n",
       "      <td>9.642234e+04</td>\n",
       "    </tr>\n",
       "    <tr>\n",
       "      <th>min</th>\n",
       "      <td>10670.000000</td>\n",
       "      <td>-3.028440e+05</td>\n",
       "      <td>-178.000000</td>\n",
       "      <td>-8.544050e+05</td>\n",
       "    </tr>\n",
       "    <tr>\n",
       "      <th>25%</th>\n",
       "      <td>45758.250000</td>\n",
       "      <td>5.990000e+02</td>\n",
       "      <td>9.000000</td>\n",
       "      <td>2.500000e+01</td>\n",
       "    </tr>\n",
       "    <tr>\n",
       "      <th>50%</th>\n",
       "      <td>80846.500000</td>\n",
       "      <td>3.998500e+03</td>\n",
       "      <td>81.000000</td>\n",
       "      <td>9.910000e+02</td>\n",
       "    </tr>\n",
       "    <tr>\n",
       "      <th>75%</th>\n",
       "      <td>115934.750000</td>\n",
       "      <td>1.696150e+04</td>\n",
       "      <td>542.000000</td>\n",
       "      <td>6.731000e+03</td>\n",
       "    </tr>\n",
       "    <tr>\n",
       "      <th>max</th>\n",
       "      <td>151023.000000</td>\n",
       "      <td>1.790817e+06</td>\n",
       "      <td>45240.000000</td>\n",
       "      <td>3.881491e+06</td>\n",
       "    </tr>\n",
       "  </tbody>\n",
       "</table>\n",
       "</div>"
      ],
      "text/plain": [
       "                 SNo     Confirmed         Deaths     Recovered\n",
       "count  140354.000000  1.403540e+05  140354.000000  1.403540e+05\n",
       "mean    80846.500000  2.896933e+04    1008.251635  1.824350e+04\n",
       "std     40516.854178  8.627797e+04    3321.954212  9.642234e+04\n",
       "min     10670.000000 -3.028440e+05    -178.000000 -8.544050e+05\n",
       "25%     45758.250000  5.990000e+02       9.000000  2.500000e+01\n",
       "50%     80846.500000  3.998500e+03      81.000000  9.910000e+02\n",
       "75%    115934.750000  1.696150e+04     542.000000  6.731000e+03\n",
       "max    151023.000000  1.790817e+06   45240.000000  3.881491e+06"
      ]
     },
     "execution_count": 166,
     "metadata": {},
     "output_type": "execute_result"
    }
   ],
   "source": [
    "\n",
    "df.rename(columns={'Last Update':'Date', 'Country/Region':'Country',\n",
    "                              }, inplace=True)\n",
    "df2=df[df['Date']>='2020-04-01']\n",
    "df3=df2[df2['Date']<'2020-11-11']\n",
    "df3.describe()"
   ]
  },
  {
   "cell_type": "code",
   "execution_count": 167,
   "metadata": {},
   "outputs": [
    {
     "name": "stdout",
     "output_type": "stream",
     "text": [
      "<class 'pandas.core.frame.DataFrame'>\n",
      "Int64Index: 140354 entries, 10669 to 151022\n",
      "Data columns (total 8 columns):\n",
      " #   Column           Non-Null Count   Dtype         \n",
      "---  ------           --------------   -----         \n",
      " 0   SNo              140354 non-null  int64         \n",
      " 1   ObservationDate  140354 non-null  object        \n",
      " 2   Province/State   102189 non-null  object        \n",
      " 3   Country          140354 non-null  object        \n",
      " 4   Date             140354 non-null  datetime64[ns]\n",
      " 5   Confirmed        140354 non-null  float64       \n",
      " 6   Deaths           140354 non-null  float64       \n",
      " 7   Recovered        140354 non-null  float64       \n",
      "dtypes: datetime64[ns](1), float64(3), int64(1), object(3)\n",
      "memory usage: 9.6+ MB\n"
     ]
    }
   ],
   "source": [
    "df3.info()"
   ]
  },
  {
   "cell_type": "code",
   "execution_count": 168,
   "metadata": {},
   "outputs": [
    {
     "data": {
      "text/html": [
       "<div>\n",
       "<style scoped>\n",
       "    .dataframe tbody tr th:only-of-type {\n",
       "        vertical-align: middle;\n",
       "    }\n",
       "\n",
       "    .dataframe tbody tr th {\n",
       "        vertical-align: top;\n",
       "    }\n",
       "\n",
       "    .dataframe thead th {\n",
       "        text-align: right;\n",
       "    }\n",
       "</style>\n",
       "<table border=\"1\" class=\"dataframe\">\n",
       "  <thead>\n",
       "    <tr style=\"text-align: right;\">\n",
       "      <th></th>\n",
       "      <th>Date</th>\n",
       "      <th>Deaths</th>\n",
       "    </tr>\n",
       "  </thead>\n",
       "  <tbody>\n",
       "    <tr>\n",
       "      <th>0</th>\n",
       "      <td>2020-04-01 22:04:58</td>\n",
       "      <td>46809.0</td>\n",
       "    </tr>\n",
       "    <tr>\n",
       "      <th>1</th>\n",
       "      <td>2020-04-02 08:53:00</td>\n",
       "      <td>52983.0</td>\n",
       "    </tr>\n",
       "    <tr>\n",
       "      <th>2</th>\n",
       "      <td>2020-04-03 22:52:45</td>\n",
       "      <td>58787.0</td>\n",
       "    </tr>\n",
       "    <tr>\n",
       "      <th>3</th>\n",
       "      <td>2020-04-04 09:38:00</td>\n",
       "      <td>64606.0</td>\n",
       "    </tr>\n",
       "    <tr>\n",
       "      <th>4</th>\n",
       "      <td>2020-04-05 23:13:44</td>\n",
       "      <td>69374.0</td>\n",
       "    </tr>\n",
       "    <tr>\n",
       "      <th>...</th>\n",
       "      <td>...</td>\n",
       "      <td>...</td>\n",
       "    </tr>\n",
       "    <tr>\n",
       "      <th>217</th>\n",
       "      <td>2020-11-05 06:05:03</td>\n",
       "      <td>1225889.0</td>\n",
       "    </tr>\n",
       "    <tr>\n",
       "      <th>218</th>\n",
       "      <td>2020-11-06 05:24:55</td>\n",
       "      <td>1233965.0</td>\n",
       "    </tr>\n",
       "    <tr>\n",
       "      <th>219</th>\n",
       "      <td>2020-11-07 05:24:52</td>\n",
       "      <td>1243528.0</td>\n",
       "    </tr>\n",
       "    <tr>\n",
       "      <th>220</th>\n",
       "      <td>2020-11-08 05:24:56</td>\n",
       "      <td>1251104.0</td>\n",
       "    </tr>\n",
       "    <tr>\n",
       "      <th>221</th>\n",
       "      <td>2020-11-09 05:25:45</td>\n",
       "      <td>1256842.0</td>\n",
       "    </tr>\n",
       "  </tbody>\n",
       "</table>\n",
       "<p>222 rows × 2 columns</p>\n",
       "</div>"
      ],
      "text/plain": [
       "                   Date     Deaths\n",
       "0   2020-04-01 22:04:58    46809.0\n",
       "1   2020-04-02 08:53:00    52983.0\n",
       "2   2020-04-03 22:52:45    58787.0\n",
       "3   2020-04-04 09:38:00    64606.0\n",
       "4   2020-04-05 23:13:44    69374.0\n",
       "..                  ...        ...\n",
       "217 2020-11-05 06:05:03  1225889.0\n",
       "218 2020-11-06 05:24:55  1233965.0\n",
       "219 2020-11-07 05:24:52  1243528.0\n",
       "220 2020-11-08 05:24:56  1251104.0\n",
       "221 2020-11-09 05:25:45  1256842.0\n",
       "\n",
       "[222 rows x 2 columns]"
      ]
     },
     "execution_count": 168,
     "metadata": {},
     "output_type": "execute_result"
    }
   ],
   "source": [
    "#Transforming Data for Forecasting\n",
    "#The input to Prophet is always a dataframe with two columns: ds and y. \n",
    "#The ds (datestamp) column should be of a format expected by Pandas, ideally YYYY-MM-DD for a date The y column must be numeric\n",
    "confirmed = df3.groupby('Date').sum()['Confirmed'].reset_index()\n",
    "deaths = df3.groupby('Date').sum()['Deaths'].reset_index()\n",
    "recovered = df3.groupby('Date').sum()['Recovered'].reset_index()\n",
    "deaths"
   ]
  },
  {
   "cell_type": "code",
   "execution_count": 169,
   "metadata": {},
   "outputs": [],
   "source": [
    "# X=features\n",
    "# y= target variable what we are trying to forecast\n",
    "\n",
    "X=df3[['Confirmed','Recovered']]\n",
    "y=df3['Deaths']\n",
    "\n"
   ]
  },
  {
   "cell_type": "markdown",
   "metadata": {},
   "source": [
    "## Training and Predicting\n"
   ]
  },
  {
   "cell_type": "code",
   "execution_count": 170,
   "metadata": {},
   "outputs": [],
   "source": [
    "from sklearn.model_selection import train_test_split"
   ]
  },
  {
   "cell_type": "code",
   "execution_count": 171,
   "metadata": {},
   "outputs": [],
   "source": [
    "X_train, X_test, y_train, y_test = train_test_split(X, y, test_size=0.2, random_state=101)\n"
   ]
  },
  {
   "cell_type": "code",
   "execution_count": 172,
   "metadata": {},
   "outputs": [],
   "source": [
    "from sklearn.linear_model import LinearRegression\n"
   ]
  },
  {
   "cell_type": "code",
   "execution_count": 173,
   "metadata": {},
   "outputs": [],
   "source": [
    "lm = LinearRegression()"
   ]
  },
  {
   "cell_type": "code",
   "execution_count": 174,
   "metadata": {},
   "outputs": [
    {
     "data": {
      "text/plain": [
       "LinearRegression()"
      ]
     },
     "execution_count": 174,
     "metadata": {},
     "output_type": "execute_result"
    }
   ],
   "source": [
    "lm.fit(X_train,y_train)"
   ]
  },
  {
   "cell_type": "code",
   "execution_count": 175,
   "metadata": {},
   "outputs": [
    {
     "name": "stdout",
     "output_type": "stream",
     "text": [
      "Coefficients: \n",
      " [ 0.03104805 -0.00227139]\n"
     ]
    }
   ],
   "source": [
    "# The coefficients\n",
    "print('Coefficients: \\n', lm.coef_)"
   ]
  },
  {
   "cell_type": "code",
   "execution_count": 176,
   "metadata": {},
   "outputs": [
    {
     "data": {
      "text/html": [
       "<div>\n",
       "<style scoped>\n",
       "    .dataframe tbody tr th:only-of-type {\n",
       "        vertical-align: middle;\n",
       "    }\n",
       "\n",
       "    .dataframe tbody tr th {\n",
       "        vertical-align: top;\n",
       "    }\n",
       "\n",
       "    .dataframe thead th {\n",
       "        text-align: right;\n",
       "    }\n",
       "</style>\n",
       "<table border=\"1\" class=\"dataframe\">\n",
       "  <thead>\n",
       "    <tr style=\"text-align: right;\">\n",
       "      <th></th>\n",
       "      <th>Coeffecient</th>\n",
       "    </tr>\n",
       "  </thead>\n",
       "  <tbody>\n",
       "    <tr>\n",
       "      <th>Confirmed</th>\n",
       "      <td>0.031048</td>\n",
       "    </tr>\n",
       "    <tr>\n",
       "      <th>Recovered</th>\n",
       "      <td>-0.002271</td>\n",
       "    </tr>\n",
       "  </tbody>\n",
       "</table>\n",
       "</div>"
      ],
      "text/plain": [
       "           Coeffecient\n",
       "Confirmed     0.031048\n",
       "Recovered    -0.002271"
      ]
     },
     "execution_count": 176,
     "metadata": {},
     "output_type": "execute_result"
    }
   ],
   "source": [
    "coeffecients = pd.DataFrame(lm.coef_,X.columns)\n",
    "coeffecients.columns = ['Coeffecient']\n",
    "coeffecients"
   ]
  },
  {
   "cell_type": "markdown",
   "metadata": {},
   "source": [
    "## Conclucion - Interpreting the coefficients:\n",
    "\n",
    "A 1 unit increase in Confirmed cases is associated with an increase of 0.031 total Deaths.\n",
    "\n",
    "\n",
    "A 1 unit increase in Recovered is associated with a decreases of -0.002 total Deaths."
   ]
  },
  {
   "cell_type": "code",
   "execution_count": 252,
   "metadata": {},
   "outputs": [
    {
     "data": {
      "text/html": [
       "<div>\n",
       "<style scoped>\n",
       "    .dataframe tbody tr th:only-of-type {\n",
       "        vertical-align: middle;\n",
       "    }\n",
       "\n",
       "    .dataframe tbody tr th {\n",
       "        vertical-align: top;\n",
       "    }\n",
       "\n",
       "    .dataframe thead th {\n",
       "        text-align: right;\n",
       "    }\n",
       "</style>\n",
       "<table border=\"1\" class=\"dataframe\">\n",
       "  <thead>\n",
       "    <tr style=\"text-align: right;\">\n",
       "      <th></th>\n",
       "      <th>Deaths</th>\n",
       "    </tr>\n",
       "    <tr>\n",
       "      <th>Date</th>\n",
       "      <th></th>\n",
       "    </tr>\n",
       "  </thead>\n",
       "  <tbody>\n",
       "    <tr>\n",
       "      <th>2020-04-01 22:04:58</th>\n",
       "      <td>46809.0</td>\n",
       "    </tr>\n",
       "    <tr>\n",
       "      <th>2020-04-02 08:53:00</th>\n",
       "      <td>52983.0</td>\n",
       "    </tr>\n",
       "    <tr>\n",
       "      <th>2020-04-03 22:52:45</th>\n",
       "      <td>58787.0</td>\n",
       "    </tr>\n",
       "    <tr>\n",
       "      <th>2020-04-04 09:38:00</th>\n",
       "      <td>64606.0</td>\n",
       "    </tr>\n",
       "    <tr>\n",
       "      <th>2020-04-05 23:13:44</th>\n",
       "      <td>69374.0</td>\n",
       "    </tr>\n",
       "    <tr>\n",
       "      <th>...</th>\n",
       "      <td>...</td>\n",
       "    </tr>\n",
       "    <tr>\n",
       "      <th>2020-10-27 04:24:45</th>\n",
       "      <td>1159720.0</td>\n",
       "    </tr>\n",
       "    <tr>\n",
       "      <th>2020-10-28 04:24:39</th>\n",
       "      <td>1167129.0</td>\n",
       "    </tr>\n",
       "    <tr>\n",
       "      <th>2020-10-29 04:24:49</th>\n",
       "      <td>1174251.0</td>\n",
       "    </tr>\n",
       "    <tr>\n",
       "      <th>2020-10-30 04:24:49</th>\n",
       "      <td>1181281.0</td>\n",
       "    </tr>\n",
       "    <tr>\n",
       "      <th>2020-10-31 04:24:44</th>\n",
       "      <td>1189088.0</td>\n",
       "    </tr>\n",
       "  </tbody>\n",
       "</table>\n",
       "<p>213 rows × 1 columns</p>\n",
       "</div>"
      ],
      "text/plain": [
       "                        Deaths\n",
       "Date                          \n",
       "2020-04-01 22:04:58    46809.0\n",
       "2020-04-02 08:53:00    52983.0\n",
       "2020-04-03 22:52:45    58787.0\n",
       "2020-04-04 09:38:00    64606.0\n",
       "2020-04-05 23:13:44    69374.0\n",
       "...                        ...\n",
       "2020-10-27 04:24:45  1159720.0\n",
       "2020-10-28 04:24:39  1167129.0\n",
       "2020-10-29 04:24:49  1174251.0\n",
       "2020-10-30 04:24:49  1181281.0\n",
       "2020-10-31 04:24:44  1189088.0\n",
       "\n",
       "[213 rows x 1 columns]"
      ]
     },
     "execution_count": 252,
     "metadata": {},
     "output_type": "execute_result"
    }
   ],
   "source": [
    "#Transforming Data for Forecasting\n",
    "#The input to Prophet is always a dataframe with two columns: ds and y. \n",
    "#The ds (datestamp) column should be of a format expected by Pandas, ideally YYYY-MM-DD for a date The y column must be numeric\n",
    "confirmed = df3.groupby('Date').sum()['Confirmed'].reset_index()\n",
    "deaths = df3.groupby('Date').sum()['Deaths'].reset_index()\n",
    "recovered = df3.groupby('Date').sum()['Recovered'].reset_index()\n",
    "deaths1=deaths[deaths['Date']<'2020-11-01']\n",
    "deaths2=deaths[deaths['Date']>'2020-11-01']\n",
    "deaths_df1 = deaths1.set_index('Date','D' )\n",
    "deaths_df2 = deaths2.set_index('Date','D')\n",
    "recovered_df = recovered.set_index('Date','D')\n",
    "confirmed_df = confirmed.set_index('Date','D')\n",
    "deaths_df1"
   ]
  },
  {
   "cell_type": "code",
   "execution_count": 253,
   "metadata": {},
   "outputs": [
    {
     "data": {
      "text/html": [
       "<div>\n",
       "<style scoped>\n",
       "    .dataframe tbody tr th:only-of-type {\n",
       "        vertical-align: middle;\n",
       "    }\n",
       "\n",
       "    .dataframe tbody tr th {\n",
       "        vertical-align: top;\n",
       "    }\n",
       "\n",
       "    .dataframe thead th {\n",
       "        text-align: right;\n",
       "    }\n",
       "</style>\n",
       "<table border=\"1\" class=\"dataframe\">\n",
       "  <thead>\n",
       "    <tr style=\"text-align: right;\">\n",
       "      <th></th>\n",
       "      <th>Deaths</th>\n",
       "    </tr>\n",
       "    <tr>\n",
       "      <th>Date</th>\n",
       "      <th></th>\n",
       "    </tr>\n",
       "  </thead>\n",
       "  <tbody>\n",
       "    <tr>\n",
       "      <th>2020-04-01 22:04:58</th>\n",
       "      <td>46809.0</td>\n",
       "    </tr>\n",
       "    <tr>\n",
       "      <th>2020-04-02 08:53:00</th>\n",
       "      <td>52983.0</td>\n",
       "    </tr>\n",
       "    <tr>\n",
       "      <th>2020-04-03 22:52:45</th>\n",
       "      <td>58787.0</td>\n",
       "    </tr>\n",
       "    <tr>\n",
       "      <th>2020-04-04 09:38:00</th>\n",
       "      <td>64606.0</td>\n",
       "    </tr>\n",
       "    <tr>\n",
       "      <th>2020-04-05 23:13:44</th>\n",
       "      <td>69374.0</td>\n",
       "    </tr>\n",
       "    <tr>\n",
       "      <th>...</th>\n",
       "      <td>...</td>\n",
       "    </tr>\n",
       "    <tr>\n",
       "      <th>2020-10-27 04:24:45</th>\n",
       "      <td>1159720.0</td>\n",
       "    </tr>\n",
       "    <tr>\n",
       "      <th>2020-10-28 04:24:39</th>\n",
       "      <td>1167129.0</td>\n",
       "    </tr>\n",
       "    <tr>\n",
       "      <th>2020-10-29 04:24:49</th>\n",
       "      <td>1174251.0</td>\n",
       "    </tr>\n",
       "    <tr>\n",
       "      <th>2020-10-30 04:24:49</th>\n",
       "      <td>1181281.0</td>\n",
       "    </tr>\n",
       "    <tr>\n",
       "      <th>2020-10-31 04:24:44</th>\n",
       "      <td>1189088.0</td>\n",
       "    </tr>\n",
       "  </tbody>\n",
       "</table>\n",
       "<p>213 rows × 1 columns</p>\n",
       "</div>"
      ],
      "text/plain": [
       "                        Deaths\n",
       "Date                          \n",
       "2020-04-01 22:04:58    46809.0\n",
       "2020-04-02 08:53:00    52983.0\n",
       "2020-04-03 22:52:45    58787.0\n",
       "2020-04-04 09:38:00    64606.0\n",
       "2020-04-05 23:13:44    69374.0\n",
       "...                        ...\n",
       "2020-10-27 04:24:45  1159720.0\n",
       "2020-10-28 04:24:39  1167129.0\n",
       "2020-10-29 04:24:49  1174251.0\n",
       "2020-10-30 04:24:49  1181281.0\n",
       "2020-10-31 04:24:44  1189088.0\n",
       "\n",
       "[213 rows x 1 columns]"
      ]
     },
     "execution_count": 253,
     "metadata": {},
     "output_type": "execute_result"
    }
   ],
   "source": [
    "train_data = deaths_df1\n",
    "test_data = deaths_df2\n",
    "train_data\n"
   ]
  },
  {
   "cell_type": "code",
   "execution_count": 254,
   "metadata": {},
   "outputs": [],
   "source": [
    "from statsmodels.tsa.holtwinters import ExponentialSmoothing"
   ]
  },
  {
   "cell_type": "code",
   "execution_count": 255,
   "metadata": {},
   "outputs": [
    {
     "name": "stderr",
     "output_type": "stream",
     "text": [
      "C:\\Users\\Technumen7\\Anaconda3\\envs\\myenv\\lib\\site-packages\\statsmodels\\tsa\\base\\tsa_model.py:581: ValueWarning: A date index has been provided, but it has no associated frequency information and so will be ignored when e.g. forecasting.\n",
      "  warnings.warn('A date index has been provided, but it has no'\n",
      "C:\\Users\\Technumen7\\Anaconda3\\envs\\myenv\\lib\\site-packages\\statsmodels\\tsa\\holtwinters\\model.py:427: FutureWarning: After 0.13 initialization must be handled at model creation\n",
      "  warnings.warn(\n",
      "C:\\Users\\Technumen7\\Anaconda3\\envs\\myenv\\lib\\site-packages\\statsmodels\\tsa\\holtwinters\\model.py:920: ConvergenceWarning: Optimization failed to converge. Check mle_retvals.\n",
      "  warnings.warn(\n"
     ]
    }
   ],
   "source": [
    "Fitted_model = ExponentialSmoothing(train_data['Deaths']\n",
    "                                   ,trend='add'\n",
    "                                   ,seasonal='add'\n",
    "                                   ,seasonal_periods = 6).fit()"
   ]
  },
  {
   "cell_type": "code",
   "execution_count": 256,
   "metadata": {},
   "outputs": [
    {
     "name": "stderr",
     "output_type": "stream",
     "text": [
      "C:\\Users\\Technumen7\\Anaconda3\\envs\\myenv\\lib\\site-packages\\statsmodels\\tsa\\base\\tsa_model.py:376: ValueWarning: No supported index is available. Prediction results will be given with an integer index beginning at `start`.\n",
      "  warnings.warn('No supported index is available.'\n"
     ]
    }
   ],
   "source": [
    "test_predictions = Fitted_model.forecast(12)"
   ]
  },
  {
   "cell_type": "code",
   "execution_count": 260,
   "metadata": {},
   "outputs": [
    {
     "data": {
      "text/plain": [
       "213    1.192035e+06\n",
       "214    1.198704e+06\n",
       "215    1.205718e+06\n",
       "216    1.211542e+06\n",
       "217    1.217203e+06\n",
       "218    1.220664e+06\n",
       "219    1.225752e+06\n",
       "220    1.232421e+06\n",
       "221    1.239435e+06\n",
       "222    1.245259e+06\n",
       "223    1.250920e+06\n",
       "224    1.254381e+06\n",
       "dtype: float64"
      ]
     },
     "execution_count": 260,
     "metadata": {},
     "output_type": "execute_result"
    }
   ],
   "source": [
    "test_predictions"
   ]
  }
 ],
 "metadata": {
  "kernelspec": {
   "display_name": "Python [conda env:myenv] *",
   "language": "python",
   "name": "conda-env-myenv-py"
  },
  "language_info": {
   "codemirror_mode": {
    "name": "ipython",
    "version": 3
   },
   "file_extension": ".py",
   "mimetype": "text/x-python",
   "name": "python",
   "nbconvert_exporter": "python",
   "pygments_lexer": "ipython3",
   "version": "3.8.5"
  }
 },
 "nbformat": 4,
 "nbformat_minor": 4
}
